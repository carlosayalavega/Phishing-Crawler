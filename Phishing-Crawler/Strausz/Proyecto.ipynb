{
 "cells": [
  {
   "cell_type": "code",
   "execution_count": 1,
   "metadata": {},
   "outputs": [],
   "source": [
    "import requests\n",
    "import pyrebase\n",
    "\n",
    "config = {\n",
    "    \"apiKey\": \"XXXXXXX\",\n",
    "    \"authDomain\": \"XXXXXXX\",\n",
    "    \"databaseURL\": \"XXXXXXX\",\n",
    "    \"storageBucket\": \"XXXXXXX\"\n",
    "}\n",
    "\n",
    "firebase = pyrebase.initialize_app(config)\n",
    "db = firebase.database()"
   ]
  },
  {
   "cell_type": "code",
   "execution_count": 7,
   "metadata": {},
   "outputs": [
    {
     "data": {
      "text/plain": [
       "{'1': 0}"
      ]
     },
     "execution_count": 7,
     "metadata": {},
     "output_type": "execute_result"
    }
   ],
   "source": [
    "domainName = 'deloitte.com'\n",
    "urlEx = \"www_deloitte_com\"\n",
    "apiKey = 'XXXXXXX'\n",
    "\n",
    "url = 'https://www.whoisxmlapi.com/whoisserver/WhoisService?'\\\n",
    "    + 'domainName=' + domainName + '&apiKey=' + apiKey + \"&outputFormat=JSON\"\n",
    "\n",
    "r = requests.get(url)\n",
    "results = r.json()\n",
    "createdDate = results['WhoisRecord']['createdDate']\n",
    "createdDate = createdDate.split('T')[0]\n",
    "createdDate = datetime.strptime(createdDate, '%Y-%m-%d')\n",
    "print(createdDate)\n",
    "db.child(\"Deloitte\").child(\"registered\").child(urlEx).update({\"1\": 0})"
   ]
  },
  {
   "cell_type": "code",
   "execution_count": null,
   "metadata": {},
   "outputs": [],
   "source": []
  }
 ],
 "metadata": {
  "kernelspec": {
   "display_name": "Python 3",
   "language": "python",
   "name": "python3"
  },
  "language_info": {
   "codemirror_mode": {
    "name": "ipython",
    "version": 3
   },
   "file_extension": ".py",
   "mimetype": "text/x-python",
   "name": "python",
   "nbconvert_exporter": "python",
   "pygments_lexer": "ipython3",
   "version": "3.6.5"
  }
 },
 "nbformat": 4,
 "nbformat_minor": 2
}
